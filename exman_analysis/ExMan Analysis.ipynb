{
 "cells": [
  {
   "cell_type": "code",
   "execution_count": 13,
   "metadata": {},
   "outputs": [],
   "source": [
    "import json\n",
    "import numpy as np\n",
    "import matplotlib.pyplot as plt\n",
    "import pandas as pd"
   ]
  },
  {
   "cell_type": "markdown",
   "metadata": {},
   "source": [
    "<h1>Research questions:</h1> "
   ]
  },
  {
   "cell_type": "code",
   "execution_count": 2,
   "metadata": {},
   "outputs": [],
   "source": [
    "def average(lst):\n",
    "    return sum(lst)/len(lst)"
   ]
  },
  {
   "cell_type": "code",
   "execution_count": 12,
   "metadata": {},
   "outputs": [
    {
     "ename": "NameError",
     "evalue": "name 'pd' is not defined",
     "output_type": "error",
     "traceback": [
      "\u001b[1;31m---------------------------------------------------------------------------\u001b[0m",
      "\u001b[1;31mNameError\u001b[0m                                 Traceback (most recent call last)",
      "\u001b[1;32m<ipython-input-12-3f62bbd64d45>\u001b[0m in \u001b[0;36m<module>\u001b[1;34m\u001b[0m\n\u001b[1;32m----> 1\u001b[1;33m \u001b[0mdf\u001b[0m \u001b[1;33m=\u001b[0m \u001b[0mpd\u001b[0m\u001b[1;33m.\u001b[0m\u001b[0mread_json\u001b[0m\u001b[1;33m(\u001b[0m\u001b[1;34m'data/ex-man-export-1.json'\u001b[0m\u001b[1;33m,\u001b[0m \u001b[0morient\u001b[0m\u001b[1;33m=\u001b[0m\u001b[1;34m'records'\u001b[0m\u001b[1;33m)\u001b[0m\u001b[1;33m\u001b[0m\u001b[1;33m\u001b[0m\u001b[0m\n\u001b[0m",
      "\u001b[1;31mNameError\u001b[0m: name 'pd' is not defined"
     ]
    }
   ],
   "source": [
    "with open('ex-man-export-1.json', 'r') as outfile:\n",
    "    data = json.load(outfile)"
   ]
  },
  {
   "cell_type": "code",
   "execution_count": 4,
   "metadata": {},
   "outputs": [
    {
     "data": {
      "text/plain": [
       "2.0"
      ]
     },
     "execution_count": 4,
     "metadata": {},
     "output_type": "execute_result"
    }
   ],
   "source": [
    "services_array = []\n",
    "\n",
    "for i in data[\"focusSessions\"]:\n",
    "    services_array.append(len(i[\"services\"]))\n",
    "\n",
    "average(services_array)\n"
   ]
  },
  {
   "cell_type": "code",
   "execution_count": 5,
   "metadata": {},
   "outputs": [
    {
     "name": "stdout",
     "output_type": "stream",
     "text": [
      "Number of focus sessions:  7\n",
      "Number of used services:  2\n"
     ]
    }
   ],
   "source": [
    "print(\"Number of focus sessions: \", len(data))\n",
    "print(\"Number of used services: \", round(average(services_array)))"
   ]
  },
  {
   "cell_type": "markdown",
   "metadata": {},
   "source": [
    "<h3>1. Does the blocking of notifications help people to be less distracted/more productive?  </h3>"
   ]
  },
  {
   "cell_type": "markdown",
   "metadata": {},
   "source": [
    "<h6> Measure by perceived productivity in form of a popup-survey at the end of a focus session. </h6>"
   ]
  },
  {
   "cell_type": "code",
   "execution_count": 6,
   "metadata": {},
   "outputs": [
    {
     "data": {
      "image/png": "[encoded data removed]",
      "text/plain": [
       "<Figure size 432x288 with 1 Axes>"
      ]
     },
     "metadata": {
      "needs_background": "light"
     },
     "output_type": "display_data"
    }
   ],
   "source": [
    "ratings = []\n",
    "for i in data[\"focusSessions\"]:\n",
    "    \n",
    "    rating = i.get(\"rating\")\n",
    "    if rating != None:\n",
    "        ratings.append(rating)\n",
    "\n",
    "averaged_rating = np.mean(ratings)\n",
    "\n",
    "plt.hist(ratings, bins = [0,1,2,3,4,5 ], align = \"mid\")\n",
    "plt.title(\"Distribution of popup-survey ratings\")\n",
    "plt.show()"
   ]
  },
  {
   "cell_type": "markdown",
   "metadata": {},
   "source": [
    "<h6>How often the user tried to break the focusmode despite being in focus?</h6>"
   ]
  },
  {
   "cell_type": "code",
   "execution_count": 7,
   "metadata": {},
   "outputs": [],
   "source": [
    "brokenFocus = []\n",
    "for i in data[\"focusSessions\"]:\n",
    "    breakFocus = i.get(\"brokenFocus\")\n",
    "    if breakFocus != None:\n",
    "        brokenFocus.append(len(breakFocus))"
   ]
  },
  {
   "cell_type": "code",
   "execution_count": 8,
   "metadata": {},
   "outputs": [
    {
     "data": {
      "image/png": "[encoded data removed]",
      "text/plain": [
       "<Figure size 432x288 with 1 Axes>"
      ]
     },
     "metadata": {
      "needs_background": "light"
     },
     "output_type": "display_data"
    }
   ],
   "source": [
    "plt.scatter([i for i in range(len(brokenFocus))],brokenFocus)\n",
    "plt.title(\"brokenFocus\")\n",
    "plt.show()"
   ]
  },
  {
   "cell_type": "markdown",
   "metadata": {},
   "source": [
    "<h6>look at number of messages received/replied to in focus mode and compare to numbers outside of focus session</h6>"
   ]
  },
  {
   "cell_type": "code",
   "execution_count": 9,
   "metadata": {},
   "outputs": [
    {
     "name": "stdout",
     "output_type": "stream",
     "text": [
      "{'id': '7d6f5085-9e3c-4d54-b873-07b3b6fcc8c7', 'name': 'whatsapp', 'unreadCount': 6, 'autoReplied': [], 'messages': [{'timestamp': 1603301657277, 'title': 1064890078}], 'interactions': []}\n",
      "{'id': '7d8bdc75-362d-452e-a4a5-d9c8336bd01c', 'name': 'teams', 'unreadCount': 0, 'autoReplied': [], 'messages': [], 'interactions': []}\n",
      "{'id': '7d6f5085-9e3c-4d54-b873-07b3b6fcc8c7', 'name': 'whatsapp', 'unreadCount': 8, 'autoReplied': [], 'messages': [{'timestamp': 1603303945548, 'title': -749385461}, {'timestamp': 1603303973644, 'title': 2011401392}, {'timestamp': 1603304394696, 'title': -749385461}, {'timestamp': 1603304458380, 'title': 2011401392}, {'timestamp': 1603304636390, 'title': -749385461}, {'timestamp': 1603304825943, 'title': 2011401392}], 'interactions': []}\n",
      "{'id': '7d8bdc75-362d-452e-a4a5-d9c8336bd01c', 'name': 'teams', 'unreadCount': 0, 'autoReplied': [], 'messages': [], 'interactions': []}\n",
      "{'id': '7d6f5085-9e3c-4d54-b873-07b3b6fcc8c7', 'name': 'whatsapp', 'unreadCount': 6, 'autoReplied': [], 'messages': [{'timestamp': 1603726653354, 'title': -387479775}, {'timestamp': 1603726778573, 'title': -387479775}, {'timestamp': 1603726803515, 'title': -786659493}, {'timestamp': 1603726898459, 'title': -387479775}, {'timestamp': 1603727110049, 'title': -387479775}, {'timestamp': 1603727964548, 'title': -749385461}], 'interactions': []}\n",
      "{'id': '7d8bdc75-362d-452e-a4a5-d9c8336bd01c', 'name': 'teams', 'unreadCount': 0, 'autoReplied': [], 'messages': [], 'interactions': []}\n"
     ]
    },
    {
     "name": "stderr",
     "output_type": "stream",
     "text": [
      "C:\\Users\\lutha\\Anaconda3\\envs\\data science\\lib\\site-packages\\numpy\\core\\_asarray.py:83: VisibleDeprecationWarning: Creating an ndarray from ragged nested sequences (which is a list-or-tuple of lists-or-tuples-or ndarrays with different lengths or shapes) is deprecated. If you meant to do this, you must specify 'dtype=object' when creating the ndarray\n",
      "  return array(a, dtype, copy=False, order=order)\n"
     ]
    }
   ],
   "source": [
    "messages_received = []\n",
    "\n",
    "for i in data[\"focusSessions\"]:\n",
    "    message_perFocus = []\n",
    "    for message in i[\"services\"]:\n",
    "        print(message)\n",
    "        message_perFocus.append(message[\"messages\"])\n",
    "    messages_received.append(message_perFocus)\n",
    "    \n",
    "messages = np.asarray(messages_received)\n",
    "\n"
   ]
  },
  {
   "cell_type": "code",
   "execution_count": 10,
   "metadata": {},
   "outputs": [
    {
     "data": {
      "image/png": "[encoded data removed]",
      "text/plain": [
       "<Figure size 432x288 with 1 Axes>"
      ]
     },
     "metadata": {
      "needs_background": "light"
     },
     "output_type": "display_data"
    }
   ],
   "source": [
    "import datetime\n",
    "\n",
    "focus_length = []\n",
    "\n",
    "for i in data[\"focusSessions\"]:\n",
    "    startTime = datetime.datetime.fromtimestamp(round(i[\"startTime\"]/1000))\n",
    "    endTime = datetime.datetime.fromtimestamp(round(i[\"endTime\"]/1000))\n",
    "    \n",
    "    duration = (endTime - startTime).total_seconds() / 60\n",
    "    \n",
    "    focus_length.append(duration)\n",
    "    \n",
    "\n",
    "plt.plot([t for t in range(len(focus_length))],focus_length)\n",
    "plt.axhline(y=np.mean(focus_length), color='r', linestyle='-')\n",
    "plt.title(\"Duration of every focus session\")\n",
    "plt.show()"
   ]
  },
  {
   "cell_type": "code",
   "execution_count": 11,
   "metadata": {},
   "outputs": [
    {
     "ename": "NameError",
     "evalue": "name 'whatsApp' is not defined",
     "output_type": "error",
     "traceback": [
      "\u001b[1;31m---------------------------------------------------------------------------\u001b[0m",
      "\u001b[1;31mNameError\u001b[0m                                 Traceback (most recent call last)",
      "\u001b[1;32m<ipython-input-11-4aa183f1fd54>\u001b[0m in \u001b[0;36m<module>\u001b[1;34m\u001b[0m\n\u001b[1;32m----> 1\u001b[1;33m \u001b[0mplt\u001b[0m\u001b[1;33m.\u001b[0m\u001b[0mplot\u001b[0m\u001b[1;33m(\u001b[0m\u001b[1;33m[\u001b[0m\u001b[0mi\u001b[0m \u001b[1;32mfor\u001b[0m \u001b[0mi\u001b[0m \u001b[1;32min\u001b[0m \u001b[0mrange\u001b[0m\u001b[1;33m(\u001b[0m\u001b[0mlen\u001b[0m\u001b[1;33m(\u001b[0m\u001b[0mwhatsApp\u001b[0m\u001b[1;33m)\u001b[0m\u001b[1;33m)\u001b[0m\u001b[1;33m]\u001b[0m\u001b[1;33m,\u001b[0m\u001b[0mwhatsApp\u001b[0m\u001b[1;33m//\u001b[0m\u001b[0mfocus_length\u001b[0m\u001b[1;33m,\u001b[0m\u001b[0mlabel\u001b[0m\u001b[1;33m=\u001b[0m\u001b[1;34m'whatsApp'\u001b[0m\u001b[1;33m)\u001b[0m\u001b[1;33m\u001b[0m\u001b[1;33m\u001b[0m\u001b[0m\n\u001b[0m\u001b[0;32m      2\u001b[0m \u001b[0mplt\u001b[0m\u001b[1;33m.\u001b[0m\u001b[0mplot\u001b[0m\u001b[1;33m(\u001b[0m\u001b[1;33m[\u001b[0m\u001b[0mi\u001b[0m \u001b[1;32mfor\u001b[0m \u001b[0mi\u001b[0m \u001b[1;32min\u001b[0m \u001b[0mrange\u001b[0m\u001b[1;33m(\u001b[0m\u001b[0mlen\u001b[0m\u001b[1;33m(\u001b[0m\u001b[0mwhatsApp\u001b[0m\u001b[1;33m)\u001b[0m\u001b[1;33m)\u001b[0m\u001b[1;33m]\u001b[0m\u001b[1;33m,\u001b[0m\u001b[0mslack\u001b[0m\u001b[1;33m//\u001b[0m\u001b[0mfocus_length\u001b[0m\u001b[1;33m,\u001b[0m \u001b[0mlabel\u001b[0m\u001b[1;33m=\u001b[0m\u001b[1;34m'slack'\u001b[0m\u001b[1;33m)\u001b[0m\u001b[1;33m\u001b[0m\u001b[1;33m\u001b[0m\u001b[0m\n\u001b[0;32m      3\u001b[0m \u001b[0mplt\u001b[0m\u001b[1;33m.\u001b[0m\u001b[0mtitle\u001b[0m\u001b[1;33m(\u001b[0m\u001b[1;34m\"distributed messages per minuted per service over all focus sessions\"\u001b[0m\u001b[1;33m)\u001b[0m\u001b[1;33m\u001b[0m\u001b[1;33m\u001b[0m\u001b[0m\n\u001b[0;32m      4\u001b[0m \u001b[0mplt\u001b[0m\u001b[1;33m.\u001b[0m\u001b[0mlegend\u001b[0m\u001b[1;33m(\u001b[0m\u001b[1;33m)\u001b[0m\u001b[1;33m\u001b[0m\u001b[1;33m\u001b[0m\u001b[0m\n\u001b[0;32m      5\u001b[0m \u001b[0mplt\u001b[0m\u001b[1;33m.\u001b[0m\u001b[0mshow\u001b[0m\u001b[1;33m(\u001b[0m\u001b[1;33m)\u001b[0m\u001b[1;33m\u001b[0m\u001b[1;33m\u001b[0m\u001b[0m\n",
      "\u001b[1;31mNameError\u001b[0m: name 'whatsApp' is not defined"
     ]
    }
   ],
   "source": [
    "plt.plot([i for i in range(len(whatsApp))],whatsApp//focus_length,label='whatsApp')\n",
    "plt.plot([i for i in range(len(whatsApp))],slack//focus_length, label='slack')\n",
    "plt.title(\"distributed messages per minuted per service over all focus sessions\")\n",
    "plt.legend()\n",
    "plt.show()"
   ]
  },
  {
   "cell_type": "code",
   "execution_count": null,
   "metadata": {},
   "outputs": [],
   "source": [
    "aggregated_messages = messages.sum(axis = 1)\n",
    "\n",
    "plt.plot([i for i in range(len(aggregated_messages))], aggregated_messages//focus_length)\n",
    "plt.title(\"aggregated messages per minute over all focus sessions\")\n",
    "plt.show()"
   ]
  },
  {
   "cell_type": "code",
   "execution_count": null,
   "metadata": {},
   "outputs": [],
   "source": []
  },
  {
   "cell_type": "code",
   "execution_count": null,
   "metadata": {},
   "outputs": [],
   "source": []
  }
 ],
 "metadata": {
  "kernelspec": {
   "display_name": "Python 3",
   "language": "python",
   "name": "python3"
  },
  "language_info": {
   "codemirror_mode": {
    "name": "ipython",
    "version": 3
   },
   "file_extension": ".py",
   "mimetype": "text/x-python",
   "name": "python",
   "nbconvert_exporter": "python",
   "pygments_lexer": "ipython3",
   "version": "3.7.7"
  }
 },
 "nbformat": 4,
 "nbformat_minor": 4
}
