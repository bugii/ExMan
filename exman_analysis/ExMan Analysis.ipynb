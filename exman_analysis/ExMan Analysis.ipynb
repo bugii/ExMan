{
 "cells": [
  {
   "cell_type": "code",
   "execution_count": 1,
   "metadata": {},
   "outputs": [],
   "source": [
    "import json\n",
    "import numpy as np\n",
    "import matplotlib.pyplot as plt"
   ]
  },
  {
   "cell_type": "markdown",
   "metadata": {},
   "source": [
    "<h1>Research questions:</h1> "
   ]
  },
  {
   "cell_type": "code",
   "execution_count": 21,
   "metadata": {},
   "outputs": [],
   "source": [
    "def average(lst):\n",
    "    return sum(lst)/len(lst)"
   ]
  },
  {
   "cell_type": "code",
   "execution_count": 2,
   "metadata": {},
   "outputs": [],
   "source": [
    "with open('ex-man-export.json', 'r') as outfile:\n",
    "    data = json.load(outfile)"
   ]
  },
  {
   "cell_type": "code",
   "execution_count": 22,
   "metadata": {},
   "outputs": [
    {
     "data": {
      "text/plain": [
       "1.9545454545454546"
      ]
     },
     "execution_count": 22,
     "metadata": {},
     "output_type": "execute_result"
    }
   ],
   "source": [
    "services_array = []\n",
    "\n",
    "for i in data[\"focusSessions\"]:\n",
    "    services_array.append(len(i[\"services\"]))\n",
    "\n",
    "average(services_array)\n"
   ]
  },
  {
   "cell_type": "code",
   "execution_count": 26,
   "metadata": {},
   "outputs": [
    {
     "name": "stdout",
     "output_type": "stream",
     "text": [
      "Number of focus sessions:  7\n",
      "Number of used services:  2\n"
     ]
    }
   ],
   "source": [
    "print(\"Number of focus sessions: \", len(data))\n",
    "print(\"Number of used services: \", round(average(services_array)))"
   ]
  },
  {
   "cell_type": "markdown",
   "metadata": {},
   "source": [
    "<h3>1. Does the blocking of notifications help people to be less distracted/more productive?  </h3>"
   ]
  },
  {
   "cell_type": "markdown",
   "metadata": {},
   "source": [
    "<h6> Measure by perceived productivity in form of a popup-survey at the end of a focus session. </h6>"
   ]
  },
  {
   "cell_type": "code",
   "execution_count": 29,
   "metadata": {},
   "outputs": [
    {
     "data": {
      "image/png": "[encoded data removed]",
      "text/plain": [
       "<Figure size 432x288 with 1 Axes>"
      ]
     },
     "metadata": {
      "needs_background": "light"
     },
     "output_type": "display_data"
    }
   ],
   "source": [
    "ratings = []\n",
    "for i in data[\"focusSessions\"]:\n",
    "    \n",
    "    rating = i.get(\"rating\")\n",
    "    if rating != None:\n",
    "        ratings.append(rating)\n",
    "\n",
    "averaged_rating = np.mean(ratings)\n",
    "\n",
    "plt.hist(ratings, bins = [0,1,2,3,4,5 ], align = \"mid\")\n",
    "plt.title(\"Distribution of popup-survey ratings\")\n",
    "plt.show()"
   ]
  },
  {
   "cell_type": "markdown",
   "metadata": {},
   "source": [
    "<h6>How often the user tried to break the focusmode despite being in focus?</h6>"
   ]
  },
  {
   "cell_type": "code",
   "execution_count": 31,
   "metadata": {},
   "outputs": [],
   "source": [
    "brokenFocus = []\n",
    "for i in data[\"focusSessions\"]:\n",
    "    breakFocus = i.get(\"brokenFocus\")\n",
    "    if breakFocus != None:\n",
    "        brokenFocus.append(len(breakFocus))"
   ]
  },
  {
   "cell_type": "code",
   "execution_count": 32,
   "metadata": {},
   "outputs": [
    {
     "data": {
      "image/png": "[encoded data removed]",
      "text/plain": [
       "<Figure size 432x288 with 1 Axes>"
      ]
     },
     "metadata": {
      "needs_background": "light"
     },
     "output_type": "display_data"
    }
   ],
   "source": [
    "plt.scatter([i for i in range(len(brokenFocus))],brokenFocus)\n",
    "plt.title(\"brokenFocus\")\n",
    "plt.show()"
   ]
  },
  {
   "cell_type": "markdown",
   "metadata": {},
   "source": [
    "<h6>look at number of messages received/replied to in focus mode and compare to numbers outside of focus session</h6>"
   ]
  },
  {
   "cell_type": "code",
   "execution_count": 37,
   "metadata": {},
   "outputs": [
    {
     "name": "stdout",
     "output_type": "stream",
     "text": [
      "{'id': '79eb71d2-406d-4181-a2a9-d4572571c385', 'name': 'slack', 'unreadCount': 0, 'autoReplied': [], 'messages': [], 'interactions': [[1603142511095, 1603142513198]]}\n",
      "{'id': '1a675a62-e2d0-4013-a1d7-ed0a7a86fdb8', 'name': 'whatsapp', 'unreadCount': 0, 'autoReplied': [], 'messages': [], 'interactions': [[1603142508852, 1603142511101]]}\n",
      "{'id': '79eb71d2-406d-4181-a2a9-d4572571c385', 'name': 'slack', 'unreadCount': 0, 'autoReplied': [], 'messages': [], 'interactions': []}\n",
      "{'id': '79eb71d2-406d-4181-a2a9-d4572571c385', 'name': 'slack', 'unreadCount': 0, 'autoReplied': [], 'messages': [], 'interactions': []}\n",
      "{'id': '79eb71d2-406d-4181-a2a9-d4572571c385', 'name': 'slack', 'unreadCount': 0, 'autoReplied': [], 'messages': [], 'interactions': [[1603181802100, 1603181806437]]}\n",
      "{'id': '79eb71d2-406d-4181-a2a9-d4572571c385', 'name': 'slack', 'unreadCount': 0, 'autoReplied': [], 'messages': [], 'interactions': []}\n",
      "{'id': 'e6281e31-3b9f-47b5-a9a6-5c5c2e7cbe27', 'name': 'whatsapp', 'unreadCount': 2, 'autoReplied': [], 'messages': [], 'interactions': []}\n",
      "{'id': '16284bd3-5d23-470c-a168-db0a1d3784d5', 'name': 'teams', 'unreadCount': 0, 'autoReplied': [], 'messages': [{'timestamp': 1603202804793, 'title': 2076631779}], 'interactions': []}\n",
      "{'id': '79eb71d2-406d-4181-a2a9-d4572571c385', 'name': 'slack', 'unreadCount': 0, 'autoReplied': [], 'messages': [], 'interactions': []}\n",
      "{'id': 'e6281e31-3b9f-47b5-a9a6-5c5c2e7cbe27', 'name': 'whatsapp', 'unreadCount': 0, 'autoReplied': [], 'messages': [], 'interactions': []}\n",
      "{'id': '16284bd3-5d23-470c-a168-db0a1d3784d5', 'name': 'teams', 'unreadCount': 0, 'autoReplied': [], 'messages': [], 'interactions': []}\n",
      "{'id': '79eb71d2-406d-4181-a2a9-d4572571c385', 'name': 'slack', 'unreadCount': 0, 'autoReplied': [], 'messages': [], 'interactions': [[1603205559801, 1603205564426]]}\n",
      "{'id': '16284bd3-5d23-470c-a168-db0a1d3784d5', 'name': 'teams', 'unreadCount': 0, 'autoReplied': [], 'messages': [], 'interactions': [[1603205564411, 1603205568721]]}\n",
      "{'id': '79eb71d2-406d-4181-a2a9-d4572571c385', 'name': 'slack', 'unreadCount': 0, 'autoReplied': [], 'messages': [], 'interactions': [[1603205865792, 1603205871346]]}\n",
      "{'id': '16284bd3-5d23-470c-a168-db0a1d3784d5', 'name': 'teams', 'unreadCount': 0, 'autoReplied': [], 'messages': [], 'interactions': [[1603205860927, 1603205865808], [1603205871326, 1603205875433]]}\n",
      "{'id': '79eb71d2-406d-4181-a2a9-d4572571c385', 'name': 'slack', 'unreadCount': 0, 'autoReplied': [], 'messages': [], 'interactions': []}\n",
      "{'id': '16284bd3-5d23-470c-a168-db0a1d3784d5', 'name': 'teams', 'unreadCount': 0, 'autoReplied': [], 'messages': [], 'interactions': []}\n",
      "{'id': '79eb71d2-406d-4181-a2a9-d4572571c385', 'name': 'slack', 'unreadCount': 0, 'autoReplied': [], 'messages': [], 'interactions': [[1603206372766, 1603206377982]]}\n",
      "{'id': '16284bd3-5d23-470c-a168-db0a1d3784d5', 'name': 'teams', 'unreadCount': 0, 'autoReplied': [], 'messages': [], 'interactions': [[1603206377968, 1603206387340]]}\n",
      "{'id': '79eb71d2-406d-4181-a2a9-d4572571c385', 'name': 'slack', 'unreadCount': 0, 'autoReplied': [], 'messages': [], 'interactions': [[1603207362357, 1603207363612]]}\n",
      "{'id': '16284bd3-5d23-470c-a168-db0a1d3784d5', 'name': 'teams', 'unreadCount': 0, 'autoReplied': [], 'messages': [], 'interactions': [[1603207357075, 1603207362372], [1603207363599, 1603207368915]]}\n",
      "{'id': '79eb71d2-406d-4181-a2a9-d4572571c385', 'name': 'slack', 'unreadCount': 0, 'autoReplied': [], 'messages': [], 'interactions': [[1603208095906, 1603208104838]]}\n",
      "{'id': '16284bd3-5d23-470c-a168-db0a1d3784d5', 'name': 'teams', 'unreadCount': 0, 'autoReplied': [], 'messages': [], 'interactions': [[1603208090920, 1603208095922]]}\n",
      "{'id': '79eb71d2-406d-4181-a2a9-d4572571c385', 'name': 'slack', 'unreadCount': 0, 'autoReplied': [], 'messages': [], 'interactions': [[1603208496856, 1603208545545]]}\n",
      "{'id': '16284bd3-5d23-470c-a168-db0a1d3784d5', 'name': 'teams', 'unreadCount': 0, 'autoReplied': [], 'messages': [], 'interactions': [[1603208473366, 1603208496869]]}\n",
      "{'id': '79eb71d2-406d-4181-a2a9-d4572571c385', 'name': 'slack', 'unreadCount': 0, 'autoReplied': [], 'messages': [], 'interactions': [[1603209207691, 1603209226868]]}\n",
      "{'id': '16284bd3-5d23-470c-a168-db0a1d3784d5', 'name': 'teams', 'unreadCount': 0, 'autoReplied': [], 'messages': [], 'interactions': [[1603208842539, 1603209207703]]}\n",
      "{'id': '79eb71d2-406d-4181-a2a9-d4572571c385', 'name': 'slack', 'unreadCount': 0, 'autoReplied': [], 'messages': [], 'interactions': [[1603216784403, 1603216883740]]}\n",
      "{'id': '16284bd3-5d23-470c-a168-db0a1d3784d5', 'name': 'teams', 'unreadCount': 0, 'autoReplied': [], 'messages': [], 'interactions': [[1603216763231, 1603216784412]]}\n",
      "{'id': '79eb71d2-406d-4181-a2a9-d4572571c385', 'name': 'slack', 'unreadCount': 0, 'autoReplied': [], 'messages': [], 'interactions': []}\n",
      "{'id': '16284bd3-5d23-470c-a168-db0a1d3784d5', 'name': 'teams', 'unreadCount': 0, 'autoReplied': [], 'messages': [], 'interactions': []}\n",
      "{'id': '79eb71d2-406d-4181-a2a9-d4572571c385', 'name': 'slack', 'unreadCount': 0, 'autoReplied': [], 'messages': [], 'interactions': [[1603217421435, 1603217422529]]}\n",
      "{'id': '16284bd3-5d23-470c-a168-db0a1d3784d5', 'name': 'teams', 'unreadCount': 0, 'autoReplied': [], 'messages': [], 'interactions': [[1603217416864, 1603217421441], [1603217422523, 1603217423985]]}\n",
      "{'id': '79eb71d2-406d-4181-a2a9-d4572571c385', 'name': 'slack', 'unreadCount': 0, 'autoReplied': [], 'messages': [], 'interactions': [[1603218780069, 1603218788734]]}\n",
      "{'id': '16284bd3-5d23-470c-a168-db0a1d3784d5', 'name': 'teams', 'unreadCount': 0, 'autoReplied': [], 'messages': [], 'interactions': [[1603218706162, 1603218780075]]}\n",
      "{'id': '79eb71d2-406d-4181-a2a9-d4572571c385', 'name': 'slack', 'unreadCount': 0, 'autoReplied': [], 'messages': [], 'interactions': []}\n",
      "{'id': '79eb71d2-406d-4181-a2a9-d4572571c385', 'name': 'slack', 'unreadCount': 0, 'autoReplied': [], 'messages': [], 'interactions': [[1603277385480, 1603277392867], [1603277398169, 1603277415031], [1603277465158, 1603277466530]]}\n",
      "{'id': '2d1dcdba-db49-46a1-a654-190edd82216e', 'name': 'whatsapp', 'unreadCount': 0, 'autoReplied': [], 'messages': [], 'interactions': [[1603277323514, 1603277385489], [1603277415022, 1603277465168], [1603277466518, 1603277467911]]}\n",
      "{'id': '79eb71d2-406d-4181-a2a9-d4572571c385', 'name': 'slack', 'unreadCount': 0, 'autoReplied': [], 'messages': [], 'interactions': []}\n",
      "{'id': '2d1dcdba-db49-46a1-a654-190edd82216e', 'name': 'whatsapp', 'unreadCount': 0, 'autoReplied': [], 'messages': [], 'interactions': []}\n",
      "{'id': '79eb71d2-406d-4181-a2a9-d4572571c385', 'name': 'slack', 'unreadCount': 0, 'autoReplied': [], 'messages': [], 'interactions': []}\n",
      "{'id': '2d1dcdba-db49-46a1-a654-190edd82216e', 'name': 'whatsapp', 'unreadCount': 0, 'autoReplied': [], 'messages': [], 'interactions': []}\n",
      "{'id': '698f8a7d-ce15-4743-897c-12b455fc88d0', 'name': 'teams', 'unreadCount': 0, 'autoReplied': [], 'messages': [], 'interactions': []}\n"
     ]
    }
   ],
   "source": [
    "messages_received = []\n",
    "\n",
    "for i in data[\"focusSessions\"]:\n",
    "    message_perFocus = []\n",
    "    for message in i[\"services\"]:\n",
    "        print(message)\n",
    "        message_perFocus.append(message[\"messages\"])\n",
    "    messages_received.append(message_perFocus)\n",
    "    \n",
    "messages = np.asarray(messages_received)\n",
    "\n"
   ]
  },
  {
   "cell_type": "code",
   "execution_count": 34,
   "metadata": {},
   "outputs": [
    {
     "data": {
      "image/png": "[encoded data removed]",
      "text/plain": [
       "<Figure size 432x288 with 1 Axes>"
      ]
     },
     "metadata": {
      "needs_background": "light"
     },
     "output_type": "display_data"
    }
   ],
   "source": [
    "import datetime\n",
    "\n",
    "focus_length = []\n",
    "\n",
    "for i in data[\"focusSessions\"]:\n",
    "    startTime = datetime.datetime.fromtimestamp(round(i[\"startTime\"]/1000))\n",
    "    endTime = datetime.datetime.fromtimestamp(round(i[\"endTime\"]/1000))\n",
    "    \n",
    "    duration = (endTime - startTime).total_seconds() / 60\n",
    "    \n",
    "    focus_length.append(duration)\n",
    "    \n",
    "\n",
    "plt.plot([t for t in range(len(focus_length))],focus_length)\n",
    "plt.axhline(y=np.mean(focus_length), color='r', linestyle='-')\n",
    "plt.title(\"Duration of every focus session\")\n",
    "plt.show()"
   ]
  },
  {
   "cell_type": "code",
   "execution_count": 35,
   "metadata": {},
   "outputs": [
    {
     "ename": "NameError",
     "evalue": "name 'whatsApp' is not defined",
     "output_type": "error",
     "traceback": [
      "\u001b[1;31m---------------------------------------------------------------------------\u001b[0m",
      "\u001b[1;31mNameError\u001b[0m                                 Traceback (most recent call last)",
      "\u001b[1;32m<ipython-input-35-4aa183f1fd54>\u001b[0m in \u001b[0;36m<module>\u001b[1;34m\u001b[0m\n\u001b[1;32m----> 1\u001b[1;33m \u001b[0mplt\u001b[0m\u001b[1;33m.\u001b[0m\u001b[0mplot\u001b[0m\u001b[1;33m(\u001b[0m\u001b[1;33m[\u001b[0m\u001b[0mi\u001b[0m \u001b[1;32mfor\u001b[0m \u001b[0mi\u001b[0m \u001b[1;32min\u001b[0m \u001b[0mrange\u001b[0m\u001b[1;33m(\u001b[0m\u001b[0mlen\u001b[0m\u001b[1;33m(\u001b[0m\u001b[0mwhatsApp\u001b[0m\u001b[1;33m)\u001b[0m\u001b[1;33m)\u001b[0m\u001b[1;33m]\u001b[0m\u001b[1;33m,\u001b[0m\u001b[0mwhatsApp\u001b[0m\u001b[1;33m//\u001b[0m\u001b[0mfocus_length\u001b[0m\u001b[1;33m,\u001b[0m\u001b[0mlabel\u001b[0m\u001b[1;33m=\u001b[0m\u001b[1;34m'whatsApp'\u001b[0m\u001b[1;33m)\u001b[0m\u001b[1;33m\u001b[0m\u001b[1;33m\u001b[0m\u001b[0m\n\u001b[0m\u001b[0;32m      2\u001b[0m \u001b[0mplt\u001b[0m\u001b[1;33m.\u001b[0m\u001b[0mplot\u001b[0m\u001b[1;33m(\u001b[0m\u001b[1;33m[\u001b[0m\u001b[0mi\u001b[0m \u001b[1;32mfor\u001b[0m \u001b[0mi\u001b[0m \u001b[1;32min\u001b[0m \u001b[0mrange\u001b[0m\u001b[1;33m(\u001b[0m\u001b[0mlen\u001b[0m\u001b[1;33m(\u001b[0m\u001b[0mwhatsApp\u001b[0m\u001b[1;33m)\u001b[0m\u001b[1;33m)\u001b[0m\u001b[1;33m]\u001b[0m\u001b[1;33m,\u001b[0m\u001b[0mslack\u001b[0m\u001b[1;33m//\u001b[0m\u001b[0mfocus_length\u001b[0m\u001b[1;33m,\u001b[0m \u001b[0mlabel\u001b[0m\u001b[1;33m=\u001b[0m\u001b[1;34m'slack'\u001b[0m\u001b[1;33m)\u001b[0m\u001b[1;33m\u001b[0m\u001b[1;33m\u001b[0m\u001b[0m\n\u001b[0;32m      3\u001b[0m \u001b[0mplt\u001b[0m\u001b[1;33m.\u001b[0m\u001b[0mtitle\u001b[0m\u001b[1;33m(\u001b[0m\u001b[1;34m\"distributed messages per minuted per service over all focus sessions\"\u001b[0m\u001b[1;33m)\u001b[0m\u001b[1;33m\u001b[0m\u001b[1;33m\u001b[0m\u001b[0m\n\u001b[0;32m      4\u001b[0m \u001b[0mplt\u001b[0m\u001b[1;33m.\u001b[0m\u001b[0mlegend\u001b[0m\u001b[1;33m(\u001b[0m\u001b[1;33m)\u001b[0m\u001b[1;33m\u001b[0m\u001b[1;33m\u001b[0m\u001b[0m\n\u001b[0;32m      5\u001b[0m \u001b[0mplt\u001b[0m\u001b[1;33m.\u001b[0m\u001b[0mshow\u001b[0m\u001b[1;33m(\u001b[0m\u001b[1;33m)\u001b[0m\u001b[1;33m\u001b[0m\u001b[1;33m\u001b[0m\u001b[0m\n",
      "\u001b[1;31mNameError\u001b[0m: name 'whatsApp' is not defined"
     ]
    }
   ],
   "source": [
    "plt.plot([i for i in range(len(whatsApp))],whatsApp//focus_length,label='whatsApp')\n",
    "plt.plot([i for i in range(len(whatsApp))],slack//focus_length, label='slack')\n",
    "plt.title(\"distributed messages per minuted per service over all focus sessions\")\n",
    "plt.legend()\n",
    "plt.show()"
   ]
  },
  {
   "cell_type": "code",
   "execution_count": null,
   "metadata": {},
   "outputs": [],
   "source": [
    "aggregated_messages = messages.sum(axis = 1)\n",
    "\n",
    "plt.plot([i for i in range(len(aggregated_messages))], aggregated_messages//focus_length)\n",
    "plt.title(\"aggregated messages per minute over all focus sessions\")\n",
    "plt.show()"
   ]
  },
  {
   "cell_type": "code",
   "execution_count": null,
   "metadata": {},
   "outputs": [],
   "source": []
  },
  {
   "cell_type": "code",
   "execution_count": null,
   "metadata": {},
   "outputs": [],
   "source": []
  }
 ],
 "metadata": {
  "kernelspec": {
   "display_name": "Python 3",
   "language": "python",
   "name": "python3"
  },
  "language_info": {
   "codemirror_mode": {
    "name": "ipython",
    "version": 3
   },
   "file_extension": ".py",
   "mimetype": "text/x-python",
   "name": "python",
   "nbconvert_exporter": "python",
   "pygments_lexer": "ipython3",
   "version": "3.7.7"
  }
 },
 "nbformat": 4,
 "nbformat_minor": 4
}
