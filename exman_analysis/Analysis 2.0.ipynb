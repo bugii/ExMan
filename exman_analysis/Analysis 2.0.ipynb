{
 "cells": [
  {
   "cell_type": "code",
   "execution_count": 1,
   "metadata": {},
   "outputs": [],
   "source": [
    "import json\n",
    "import numpy as np\n",
    "import matplotlib.pyplot as plt\n",
    "import pandas as pd\n",
    "import scipy.stats"
   ]
  },
  {
   "cell_type": "markdown",
   "metadata": {},
   "source": [
    "<h1> Research Questions </h1>"
   ]
  },
  {
   "cell_type": "code",
   "execution_count": 2,
   "metadata": {},
   "outputs": [],
   "source": [
    "with open('data/ex-man-export-1.json', 'r') as outfile:\n",
    "    data1 = json.load(outfile)\n",
    "with open('data/ex-man-export-2.json', 'r') as outfile:\n",
    "    data2 = json.load(outfile)\n",
    "with open('data/ex-man-export-3.json', 'r') as outfile:\n",
    "    data3 = json.load(outfile)\n",
    "with open('data/ex-man-export-4.json', 'r') as outfile:\n",
    "    data4 = json.load(outfile)\n",
    "with open('data/ex-man-export-5.json', 'r') as outfile:\n",
    "    data5 = json.load(outfile)\n",
    "\n",
    "dataset = [data1,data2,data3,data4,data5]"
   ]
  },
  {
   "cell_type": "code",
   "execution_count": 3,
   "metadata": {},
   "outputs": [],
   "source": [
    "def create_focusDF(data):\n",
    "    \n",
    "    percentage_goals = []\n",
    "    broken_Focus = []\n",
    "    \n",
    "    # transform json part to pandas dataframe\n",
    "    df = pd.json_normalize(data[\"focusSessions\"])\n",
    "    \n",
    "    # create new column, which calculates how long a user stayed in focus\n",
    "    df[\"minutesInFocus\"] = round((df[\"endTime\"] - df[\"startTime\"])/60000,2)\n",
    "    \n",
    "    # calculate percentage of achieved goals\n",
    "    for index, row in df.iterrows():\n",
    "        if len(row['goals']) == 0:\n",
    "            percentage_goals.append(0)\n",
    "        else:\n",
    "            percentage_goals.append(round(len(row['completedGoals'])/len(row['goals']),2))\n",
    "        \n",
    "        if len(row[\"brokenFocus\"]) == 0:\n",
    "            broken_Focus.append(0)\n",
    "        else:\n",
    "            break_per_focus= 0\n",
    "            for element in row[\"brokenFocus\"]:\n",
    "                if len(element) ==2:\n",
    "                    break_per_focus += ((element[1]-element[0])/60000)\n",
    "            broken_Focus.append(round(break_per_focus,2))\n",
    "    df[\"brokenFocus\"] = broken_Focus\n",
    "            \n",
    "            \n",
    "    df[\"percentageCompletedGoals\"] = percentage_goals\n",
    "    \n",
    "    \n",
    "    \n",
    "    # drop columns startTime, endTime, originalEndTime, goals and completedGoals\n",
    "    df = df.drop(['startTime', 'endTime','originalEndTime','goals','completedGoals'], axis=1)\n",
    "    return df\n",
    "\n",
    "df1 = create_focusDF(data1)\n",
    "df2 = create_focusDF(data2)\n",
    "df3 = create_focusDF(data3)\n",
    "df4 = create_focusDF(data4)\n",
    "df5 = create_focusDF(data5)\n",
    "    \n",
    "    \n",
    "    \n",
    "focusdf = pd.concat([df1,df2,df3,df4,df5], keys=[\"df1\", \"df2\", \"df3\", \"df4\",\"df5\"])\n"
   ]
  },
  {
   "cell_type": "code",
   "execution_count": 4,
   "metadata": {},
   "outputs": [],
   "source": [
    "df_survey1 =  pd.json_normalize(data1[\"randomSurveyResults\"])\n",
    "df_survey2 =  pd.json_normalize(data2[\"randomSurveyResults\"])\n",
    "df_survey3 =  pd.json_normalize(data3[\"randomSurveyResults\"])\n",
    "df_survey4 =  pd.json_normalize(data4[\"randomSurveyResults\"])\n",
    "df_survey5 =  pd.json_normalize(data5[\"randomSurveyResults\"])\n",
    "\n",
    "df_surveyframes= [df_survey1,df_survey2,df_survey3,df_survey4,df_survey5]\n",
    "\n",
    "df_survey = pd.concat(df_surveyframes, keys=[\"a\",\"b\",\"c\",\"d\",\"e\"])"
   ]
  },
  {
   "cell_type": "code",
   "execution_count": 5,
   "metadata": {},
   "outputs": [
    {
     "data": {
      "text/html": [
       "<div>\n",
       "<style scoped>\n",
       "    .dataframe tbody tr th:only-of-type {\n",
       "        vertical-align: middle;\n",
       "    }\n",
       "\n",
       "    .dataframe tbody tr th {\n",
       "        vertical-align: top;\n",
       "    }\n",
       "\n",
       "    .dataframe thead th {\n",
       "        text-align: right;\n",
       "    }\n",
       "</style>\n",
       "<table border=\"1\" class=\"dataframe\">\n",
       "  <thead>\n",
       "    <tr style=\"text-align: right;\">\n",
       "      <th></th>\n",
       "      <th></th>\n",
       "      <th>id</th>\n",
       "      <th>services</th>\n",
       "      <th>brokenFocus</th>\n",
       "      <th>rating</th>\n",
       "      <th>scheduled</th>\n",
       "      <th>activeWindows</th>\n",
       "      <th>chatWorkRelated</th>\n",
       "      <th>minutesInFocus</th>\n",
       "      <th>percentageCompletedGoals</th>\n",
       "    </tr>\n",
       "  </thead>\n",
       "  <tbody>\n",
       "    <tr>\n",
       "      <th rowspan=\"3\" valign=\"top\">df1</th>\n",
       "      <th>0</th>\n",
       "      <td>c13f22e4-0bd5-48df-b3f7-ad8e624b65a8</td>\n",
       "      <td>[{'id': '7d6f5085-9e3c-4d54-b873-07b3b6fcc8c7'...</td>\n",
       "      <td>0.00</td>\n",
       "      <td>4.0</td>\n",
       "      <td>False</td>\n",
       "      <td>[{'timestamp': 1603301228717, 'name': 'Gnome-t...</td>\n",
       "      <td>NaN</td>\n",
       "      <td>7.92</td>\n",
       "      <td>1.00</td>\n",
       "    </tr>\n",
       "    <tr>\n",
       "      <th>1</th>\n",
       "      <td>bef13fc8-2d8a-41fe-a867-a8d5e20922ef</td>\n",
       "      <td>[{'id': '7d6f5085-9e3c-4d54-b873-07b3b6fcc8c7'...</td>\n",
       "      <td>0.00</td>\n",
       "      <td>5.0</td>\n",
       "      <td>False</td>\n",
       "      <td>[{'timestamp': 1603303938906, 'name': 'exman',...</td>\n",
       "      <td>NaN</td>\n",
       "      <td>17.76</td>\n",
       "      <td>1.00</td>\n",
       "    </tr>\n",
       "    <tr>\n",
       "      <th>2</th>\n",
       "      <td>ba519481-9f2d-4fd4-8668-bc33f339c4d6</td>\n",
       "      <td>[{'id': '7d6f5085-9e3c-4d54-b873-07b3b6fcc8c7'...</td>\n",
       "      <td>0.00</td>\n",
       "      <td>2.0</td>\n",
       "      <td>False</td>\n",
       "      <td>[{'timestamp': 1603726629784, 'name': 'exman',...</td>\n",
       "      <td>False</td>\n",
       "      <td>27.98</td>\n",
       "      <td>0.33</td>\n",
       "    </tr>\n",
       "    <tr>\n",
       "      <th rowspan=\"2\" valign=\"top\">df2</th>\n",
       "      <th>0</th>\n",
       "      <td>04ab8fc1-addb-4c2b-a2a3-55be0fcd5a84</td>\n",
       "      <td>[{'id': '476c3b89-ad22-4c22-bdc9-9c90aec4960a'...</td>\n",
       "      <td>0.00</td>\n",
       "      <td>5.0</td>\n",
       "      <td>False</td>\n",
       "      <td>[{'timestamp': 1603366730107, 'name': 'exman',...</td>\n",
       "      <td>NaN</td>\n",
       "      <td>30.00</td>\n",
       "      <td>0.00</td>\n",
       "    </tr>\n",
       "    <tr>\n",
       "      <th>1</th>\n",
       "      <td>88704f6f-a0e2-4a09-b058-2dea582c5d86</td>\n",
       "      <td>[{'id': '476c3b89-ad22-4c22-bdc9-9c90aec4960a'...</td>\n",
       "      <td>0.00</td>\n",
       "      <td>5.0</td>\n",
       "      <td>False</td>\n",
       "      <td>[{'timestamp': 1603371181878, 'name': 'Visual ...</td>\n",
       "      <td>NaN</td>\n",
       "      <td>30.00</td>\n",
       "      <td>0.00</td>\n",
       "    </tr>\n",
       "    <tr>\n",
       "      <th>...</th>\n",
       "      <th>...</th>\n",
       "      <td>...</td>\n",
       "      <td>...</td>\n",
       "      <td>...</td>\n",
       "      <td>...</td>\n",
       "      <td>...</td>\n",
       "      <td>...</td>\n",
       "      <td>...</td>\n",
       "      <td>...</td>\n",
       "      <td>...</td>\n",
       "    </tr>\n",
       "    <tr>\n",
       "      <th rowspan=\"5\" valign=\"top\">df5</th>\n",
       "      <th>80</th>\n",
       "      <td>13339a7d-4bd0-42b1-8eb9-f3258da8ea5a</td>\n",
       "      <td>[{'id': '02866635-b2ff-41a0-bf78-2407924608ea'...</td>\n",
       "      <td>0.00</td>\n",
       "      <td>0.0</td>\n",
       "      <td>False</td>\n",
       "      <td>[{'timestamp': 1604414962976, 'name': 'Teams.e...</td>\n",
       "      <td>False</td>\n",
       "      <td>41.39</td>\n",
       "      <td>0.00</td>\n",
       "    </tr>\n",
       "    <tr>\n",
       "      <th>81</th>\n",
       "      <td>6e5450ce-f431-445e-8c54-b70c41a272a1</td>\n",
       "      <td>[{'id': '02866635-b2ff-41a0-bf78-2407924608ea'...</td>\n",
       "      <td>0.00</td>\n",
       "      <td>5.0</td>\n",
       "      <td>False</td>\n",
       "      <td>[{'timestamp': 1604484383405, 'name': 'exman.e...</td>\n",
       "      <td>False</td>\n",
       "      <td>56.45</td>\n",
       "      <td>1.00</td>\n",
       "    </tr>\n",
       "    <tr>\n",
       "      <th>82</th>\n",
       "      <td>7a9fdea9-efd3-403d-9cd7-65ec29d656eb</td>\n",
       "      <td>[{'id': '02866635-b2ff-41a0-bf78-2407924608ea'...</td>\n",
       "      <td>0.00</td>\n",
       "      <td>5.0</td>\n",
       "      <td>False</td>\n",
       "      <td>[{'timestamp': 1604489152182, 'name': 'Zoom.ex...</td>\n",
       "      <td>False</td>\n",
       "      <td>60.00</td>\n",
       "      <td>0.00</td>\n",
       "    </tr>\n",
       "    <tr>\n",
       "      <th>83</th>\n",
       "      <td>3a40ee9c-213a-4f83-bc5c-b7e136dc238c</td>\n",
       "      <td>[{'id': '02866635-b2ff-41a0-bf78-2407924608ea'...</td>\n",
       "      <td>51.63</td>\n",
       "      <td>5.0</td>\n",
       "      <td>False</td>\n",
       "      <td>[{'timestamp': 1604505269953, 'name': 'exman.e...</td>\n",
       "      <td>False</td>\n",
       "      <td>52.34</td>\n",
       "      <td>1.00</td>\n",
       "    </tr>\n",
       "    <tr>\n",
       "      <th>84</th>\n",
       "      <td>05cef8bb-ffee-43ea-ab18-a1f2810e5205</td>\n",
       "      <td>[{'id': '02866635-b2ff-41a0-bf78-2407924608ea'...</td>\n",
       "      <td>0.00</td>\n",
       "      <td>5.0</td>\n",
       "      <td>False</td>\n",
       "      <td>[{'timestamp': 1604659024802, 'name': 'electro...</td>\n",
       "      <td>False</td>\n",
       "      <td>1.01</td>\n",
       "      <td>1.00</td>\n",
       "    </tr>\n",
       "  </tbody>\n",
       "</table>\n",
       "<p>107 rows × 9 columns</p>\n",
       "</div>"
      ],
      "text/plain": [
       "                                          id  \\\n",
       "df1 0   c13f22e4-0bd5-48df-b3f7-ad8e624b65a8   \n",
       "    1   bef13fc8-2d8a-41fe-a867-a8d5e20922ef   \n",
       "    2   ba519481-9f2d-4fd4-8668-bc33f339c4d6   \n",
       "df2 0   04ab8fc1-addb-4c2b-a2a3-55be0fcd5a84   \n",
       "    1   88704f6f-a0e2-4a09-b058-2dea582c5d86   \n",
       "...                                      ...   \n",
       "df5 80  13339a7d-4bd0-42b1-8eb9-f3258da8ea5a   \n",
       "    81  6e5450ce-f431-445e-8c54-b70c41a272a1   \n",
       "    82  7a9fdea9-efd3-403d-9cd7-65ec29d656eb   \n",
       "    83  3a40ee9c-213a-4f83-bc5c-b7e136dc238c   \n",
       "    84  05cef8bb-ffee-43ea-ab18-a1f2810e5205   \n",
       "\n",
       "                                                 services  brokenFocus  \\\n",
       "df1 0   [{'id': '7d6f5085-9e3c-4d54-b873-07b3b6fcc8c7'...         0.00   \n",
       "    1   [{'id': '7d6f5085-9e3c-4d54-b873-07b3b6fcc8c7'...         0.00   \n",
       "    2   [{'id': '7d6f5085-9e3c-4d54-b873-07b3b6fcc8c7'...         0.00   \n",
       "df2 0   [{'id': '476c3b89-ad22-4c22-bdc9-9c90aec4960a'...         0.00   \n",
       "    1   [{'id': '476c3b89-ad22-4c22-bdc9-9c90aec4960a'...         0.00   \n",
       "...                                                   ...          ...   \n",
       "df5 80  [{'id': '02866635-b2ff-41a0-bf78-2407924608ea'...         0.00   \n",
       "    81  [{'id': '02866635-b2ff-41a0-bf78-2407924608ea'...         0.00   \n",
       "    82  [{'id': '02866635-b2ff-41a0-bf78-2407924608ea'...         0.00   \n",
       "    83  [{'id': '02866635-b2ff-41a0-bf78-2407924608ea'...        51.63   \n",
       "    84  [{'id': '02866635-b2ff-41a0-bf78-2407924608ea'...         0.00   \n",
       "\n",
       "        rating  scheduled                                      activeWindows  \\\n",
       "df1 0      4.0      False  [{'timestamp': 1603301228717, 'name': 'Gnome-t...   \n",
       "    1      5.0      False  [{'timestamp': 1603303938906, 'name': 'exman',...   \n",
       "    2      2.0      False  [{'timestamp': 1603726629784, 'name': 'exman',...   \n",
       "df2 0      5.0      False  [{'timestamp': 1603366730107, 'name': 'exman',...   \n",
       "    1      5.0      False  [{'timestamp': 1603371181878, 'name': 'Visual ...   \n",
       "...        ...        ...                                                ...   \n",
       "df5 80     0.0      False  [{'timestamp': 1604414962976, 'name': 'Teams.e...   \n",
       "    81     5.0      False  [{'timestamp': 1604484383405, 'name': 'exman.e...   \n",
       "    82     5.0      False  [{'timestamp': 1604489152182, 'name': 'Zoom.ex...   \n",
       "    83     5.0      False  [{'timestamp': 1604505269953, 'name': 'exman.e...   \n",
       "    84     5.0      False  [{'timestamp': 1604659024802, 'name': 'electro...   \n",
       "\n",
       "       chatWorkRelated  minutesInFocus  percentageCompletedGoals  \n",
       "df1 0              NaN            7.92                      1.00  \n",
       "    1              NaN           17.76                      1.00  \n",
       "    2            False           27.98                      0.33  \n",
       "df2 0              NaN           30.00                      0.00  \n",
       "    1              NaN           30.00                      0.00  \n",
       "...                ...             ...                       ...  \n",
       "df5 80           False           41.39                      0.00  \n",
       "    81           False           56.45                      1.00  \n",
       "    82           False           60.00                      0.00  \n",
       "    83           False           52.34                      1.00  \n",
       "    84           False            1.01                      1.00  \n",
       "\n",
       "[107 rows x 9 columns]"
      ]
     },
     "execution_count": 5,
     "metadata": {},
     "output_type": "execute_result"
    }
   ],
   "source": [
    "focusdf"
   ]
  },
  {
   "cell_type": "markdown",
   "metadata": {},
   "source": [
    "<h3>RQ1: What is the effect of blocking notifications on productivity levels? </h3>"
   ]
  },
  {
   "cell_type": "code",
   "execution_count": 12,
   "metadata": {},
   "outputs": [
    {
     "data": {
      "image/png": "[encoded data removed]",
      "text/plain": [
       "<Figure size 432x288 with 1 Axes>"
      ]
     },
     "metadata": {
      "needs_background": "light"
     },
     "output_type": "display_data"
    }
   ],
   "source": [
    "bins = np.unique(df_survey[\"productivity\"])\n",
    "plt.hist(df_survey[\"productivity\"], bins, align=\"right\",rwidth=0.8 )\n",
    "plt.title(\"Random survey + Summary page rating (Likert Scale ratings) - productivity \")\n",
    "\n",
    "plt.show()"
   ]
  },
  {
   "cell_type": "code",
   "execution_count": 7,
   "metadata": {},
   "outputs": [
    {
     "data": {
      "text/plain": [
       "array([0, 1, 2, 3, 4, 5], dtype=int64)"
      ]
     },
     "execution_count": 7,
     "metadata": {},
     "output_type": "execute_result"
    }
   ],
   "source": [
    "bins"
   ]
  },
  {
   "cell_type": "markdown",
   "metadata": {},
   "source": [
    "<h3>RQ2: Is optional blocking of distractions and notifications enough to enable people to focus completely? \n",
    "</h3>"
   ]
  },
  {
   "cell_type": "markdown",
   "metadata": {},
   "source": [
    "<h3>RQ3: How desirable are auto-response messages for knowledge workers? What are example situations where auto-response would be useful?  </h3>"
   ]
  },
  {
   "cell_type": "code",
   "execution_count": 8,
   "metadata": {},
   "outputs": [
    {
     "name": "stderr",
     "output_type": "stream",
     "text": [
      "C:\\Users\\lutha\\Anaconda3\\lib\\site-packages\\scipy\\stats\\_distn_infrastructure.py:903: RuntimeWarning: invalid value encountered in greater\n",
      "  return (a < x) & (x < b)\n",
      "C:\\Users\\lutha\\Anaconda3\\lib\\site-packages\\scipy\\stats\\_distn_infrastructure.py:903: RuntimeWarning: invalid value encountered in less\n",
      "  return (a < x) & (x < b)\n",
      "C:\\Users\\lutha\\Anaconda3\\lib\\site-packages\\scipy\\stats\\_distn_infrastructure.py:1912: RuntimeWarning: invalid value encountered in less_equal\n",
      "  cond2 = cond0 & (x <= _a)\n"
     ]
    },
    {
     "data": {
      "image/png": "[encoded data removed]",
      "text/plain": [
       "<Figure size 432x288 with 1 Axes>"
      ]
     },
     "metadata": {
      "needs_background": "light"
     },
     "output_type": "display_data"
    }
   ],
   "source": [
    "plt.scatter(df1[\"rating\"],df1[\"brokenFocus\"])\n",
    "plt.scatter(df2[\"rating\"],df2[\"brokenFocus\"])\n",
    "plt.scatter(df3[\"rating\"],df3[\"brokenFocus\"])\n",
    "plt.scatter(df4[\"rating\"],df4[\"brokenFocus\"])\n",
    "plt.scatter(df5[\"rating\"],df5[\"brokenFocus\"])\n",
    "\n",
    "slope, intercept, r, p, stderr = scipy.stats.linregress(focusdf[\"rating\"], focusdf[\"brokenFocus\"])\n",
    "plt.plot(focusdf[\"rating\"], intercept + slope * focusdf[\"rating\"])\n",
    "\n",
    "\n",
    "plt.xlabel(\"rating\")\n",
    "plt.ylabel(\"broken focus time\")\n",
    "plt.title(\"Productivity vs duration in tools\")\n",
    "\n",
    "plt.show()"
   ]
  },
  {
   "cell_type": "markdown",
   "metadata": {},
   "source": [
    "<h3>RQ4: OPTIONAL: How was the app used? What is the timing of the start and length of focus sessions? </h3>"
   ]
  },
  {
   "cell_type": "markdown",
   "metadata": {},
   "source": [
    "<h3> RQ5: What are the biggest impacts on goal achievement and productivity levels? (breaking focus time, focus session length, goal setting practices etc) \n",
    "</h3>"
   ]
  },
  {
   "cell_type": "code",
   "execution_count": 9,
   "metadata": {},
   "outputs": [
    {
     "data": {
      "image/png": "[encoded data removed]",
      "text/plain": [
       "<Figure size 432x288 with 1 Axes>"
      ]
     },
     "metadata": {
      "needs_background": "light"
     },
     "output_type": "display_data"
    }
   ],
   "source": [
    "plt.scatter(df1[\"rating\"],df1[\"minutesInFocus\"])\n",
    "plt.scatter(df2[\"rating\"],df2[\"minutesInFocus\"])\n",
    "plt.scatter(df3[\"rating\"],df3[\"minutesInFocus\"])\n",
    "plt.scatter(df4[\"rating\"],df4[\"minutesInFocus\"])\n",
    "plt.scatter(df5[\"rating\"],df5[\"minutesInFocus\"])\n",
    "\n",
    "\n",
    "focusdf['rating'].fillna(value=focusdf['rating'].mean(), inplace=True)\n",
    "\n",
    "slope, intercept, r, p, stderr = scipy.stats.linregress(focusdf[\"rating\"], focusdf[\"minutesInFocus\"])\n",
    "plt.plot(focusdf[\"rating\"], intercept + slope * focusdf[\"rating\"])\n",
    "\n",
    "\n",
    "plt.xlabel(\"rating\")\n",
    "plt.ylabel(\"minutes in focus\")\n",
    "plt.title(\"Productivity vs length of focus sessions\")\n",
    "\n",
    "plt.show()"
   ]
  },
  {
   "cell_type": "code",
   "execution_count": 10,
   "metadata": {},
   "outputs": [
    {
     "data": {
      "image/png": "[encoded data removed]",
      "text/plain": [
       "<Figure size 432x288 with 1 Axes>"
      ]
     },
     "metadata": {
      "needs_background": "light"
     },
     "output_type": "display_data"
    }
   ],
   "source": [
    "plt.scatter(df1[\"rating\"],df1[\"percentageCompletedGoals\"])\n",
    "plt.scatter(df2[\"rating\"],df2[\"percentageCompletedGoals\"])\n",
    "plt.scatter(df3[\"rating\"],df3[\"percentageCompletedGoals\"])\n",
    "plt.scatter(df4[\"rating\"],df4[\"percentageCompletedGoals\"])\n",
    "plt.scatter(df5[\"rating\"],df5[\"percentageCompletedGoals\"])\n",
    "\n",
    "slope, intercept, r, p, stderr = scipy.stats.linregress(focusdf[\"rating\"], focusdf[\"percentageCompletedGoals\"])\n",
    "plt.plot(focusdf[\"rating\"], intercept + slope * focusdf[\"rating\"])\n",
    "\n",
    "\n",
    "plt.xlabel(\"rating\")\n",
    "plt.ylabel(\"completed goals\")\n",
    "plt.title(\"Productivity vs percentage goals completed\")\n",
    "\n",
    "plt.show()"
   ]
  }
 ],
 "metadata": {
  "kernelspec": {
   "display_name": "Python 3",
   "language": "python",
   "name": "python3"
  },
  "language_info": {
   "codemirror_mode": {
    "name": "ipython",
    "version": 3
   },
   "file_extension": ".py",
   "mimetype": "text/x-python",
   "name": "python",
   "nbconvert_exporter": "python",
   "pygments_lexer": "ipython3",
   "version": "3.7.7"
  }
 },
 "nbformat": 4,
 "nbformat_minor": 4
}
