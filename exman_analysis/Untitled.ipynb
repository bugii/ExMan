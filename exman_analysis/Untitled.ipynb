{
 "cells": [
  {
   "cell_type": "code",
   "execution_count": 1,
   "metadata": {},
   "outputs": [],
   "source": [
    "import json\n",
    "import numpy as np\n",
    "import matplotlib.pyplot as plt\n",
    "import pandas as pd\n",
    "import scipy.stats"
   ]
  },
  {
   "cell_type": "markdown",
   "metadata": {},
   "source": [
    "<h1> Research Questions </h1>"
   ]
  },
  {
   "cell_type": "code",
   "execution_count": 2,
   "metadata": {},
   "outputs": [],
   "source": [
    "with open('data/ex-man-export-1.json', 'r') as outfile:\n",
    "    data1 = json.load(outfile)\n",
    "with open('data/ex-man-export-2.json', 'r') as outfile:\n",
    "    data2 = json.load(outfile)\n",
    "with open('data/ex-man-export-3.json', 'r') as outfile:\n",
    "    data3 = json.load(outfile)\n",
    "with open('data/ex-man-export-4.json', 'r') as outfile:\n",
    "    data4 = json.load(outfile)\n",
    "\n",
    "dataset = [data1,data2,data3,data4]"
   ]
  },
  {
   "cell_type": "code",
   "execution_count": 3,
   "metadata": {},
   "outputs": [],
   "source": [
    "def create_focusDF(data):\n",
    "    \n",
    "    percentage_goals = []\n",
    "    broken_Focus = []\n",
    "    \n",
    "    # transform json part to pandas dataframe\n",
    "    df = pd.json_normalize(data[\"focusSessions\"])\n",
    "    \n",
    "    # create new column, which calculates how long a user stayed in focus\n",
    "    df[\"minutesInFocus\"] = round((df[\"endTime\"] - df[\"startTime\"])/60000,2)\n",
    "    \n",
    "    # calculate percentage of achieved goals\n",
    "    for index, row in df.iterrows():\n",
    "        if len(row['goals']) == 0:\n",
    "            percentage_goals.append(0)\n",
    "        else:\n",
    "            percentage_goals.append(round(len(row['completedGoals'])/len(row['goals']),2))\n",
    "        \n",
    "        if len(row[\"brokenFocus\"]) == 0:\n",
    "            broken_Focus.append(0)\n",
    "        else:\n",
    "            break_per_focus= 0\n",
    "            for element in row[\"brokenFocus\"]:\n",
    "                break_per_focus += ((element[1]-element[0])/60000)\n",
    "            broken_Focus.append(round(break_per_focus,2))\n",
    "    df[\"brokenFocus\"] = broken_Focus\n",
    "            \n",
    "            \n",
    "    df[\"percentageCompletedGoals\"] = percentage_goals\n",
    "    \n",
    "    \n",
    "    \n",
    "    # drop columns startTime, endTime, originalEndTime, goals and completedGoals\n",
    "    df = df.drop(['startTime', 'endTime','originalEndTime','goals','completedGoals'], axis=1)\n",
    "    return df\n",
    "\n",
    "df1 = create_focusDF(data1)\n",
    "df2 = create_focusDF(data2)\n",
    "df3 = create_focusDF(data3)\n",
    "df4 = create_focusDF(data4)\n",
    "    \n",
    "    \n",
    "    \n",
    "focusdf = pd.concat([df1,df2,df3,df4], keys=[\"df1\", \"df2\", \"df3\", \"df4\"])\n"
   ]
  },
  {
   "cell_type": "code",
   "execution_count": 4,
   "metadata": {},
   "outputs": [],
   "source": [
    "df_survey1 =  pd.json_normalize(data1[\"randomSurveyResults\"])\n",
    "df_survey2 =  pd.json_normalize(data2[\"randomSurveyResults\"])\n",
    "df_survey3 =  pd.json_normalize(data3[\"randomSurveyResults\"])\n",
    "df_survey4 =  pd.json_normalize(data4[\"randomSurveyResults\"])\n",
    "\n",
    "df_surveyframes= [df_survey1,df_survey2,df_survey3,df_survey4]\n",
    "\n",
    "df_survey = pd.concat(df_surveyframes, keys=[\"a\",\"b\",\"c\",\"d\"])"
   ]
  },
  {
   "cell_type": "markdown",
   "metadata": {},
   "source": [
    "<h3>RQ1: What is the effect of blocking notifications on productivity levels? </h3>"
   ]
  },
  {
   "cell_type": "code",
   "execution_count": 5,
   "metadata": {},
   "outputs": [
    {
     "data": {
      "image/png": "[encoded data removed]",
      "text/plain": [
       "<Figure size 432x288 with 1 Axes>"
      ]
     },
     "metadata": {
      "needs_background": "light"
     },
     "output_type": "display_data"
    }
   ],
   "source": [
    "counts, bins = np.histogram(df_survey[\"productivity\"])\n",
    "plt.hist(bins[:-1], bins, weights=counts)\n",
    "plt.title(\"Random survey + Summary page rating (Likert Scale ratings) - productivity \")\n",
    "\n",
    "plt.show()"
   ]
  },
  {
   "cell_type": "markdown",
   "metadata": {},
   "source": [
    "<h3>RQ2: Is optional blocking of distractions and notifications enough to enable people to focus completely? \n",
    "</h3>"
   ]
  },
  {
   "cell_type": "markdown",
   "metadata": {},
   "source": [
    "<h3>RQ3: How desirable are auto-response messages for knowledge workers? What are example situations where auto-response would be useful?  </h3>"
   ]
  },
  {
   "cell_type": "code",
   "execution_count": 6,
   "metadata": {},
   "outputs": [
    {
     "data": {
      "image/png": "[encoded data removed]",
      "text/plain": [
       "<Figure size 432x288 with 1 Axes>"
      ]
     },
     "metadata": {
      "needs_background": "light"
     },
     "output_type": "display_data"
    }
   ],
   "source": [
    "plt.scatter(df1[\"rating\"],df1[\"brokenFocus\"])\n",
    "plt.scatter(df2[\"rating\"],df2[\"brokenFocus\"])\n",
    "plt.scatter(df3[\"rating\"],df3[\"brokenFocus\"])\n",
    "plt.scatter(df4[\"rating\"],df4[\"brokenFocus\"])\n",
    "\n",
    "slope, intercept, r, p, stderr = scipy.stats.linregress(focusdf[\"rating\"], focusdf[\"brokenFocus\"])\n",
    "plt.plot(focusdf[\"rating\"], intercept + slope * focusdf[\"rating\"])\n",
    "\n",
    "\n",
    "plt.xlabel(\"rating\")\n",
    "plt.ylabel(\"time in focus in services\")\n",
    "plt.title(\"Productivity vs duration in tools\")\n",
    "\n",
    "plt.show()"
   ]
  },
  {
   "cell_type": "markdown",
   "metadata": {},
   "source": [
    "<h3>RQ4: OPTIONAL: How was the app used? What is the timing of the start and length of focus sessions? </h3>"
   ]
  },
  {
   "cell_type": "markdown",
   "metadata": {},
   "source": [
    "<h3> RQ5: What are the biggest impacts on goal achievement and productivity levels? (breaking focus time, focus session length, goal setting practices etc) \n",
    "</h3>"
   ]
  },
  {
   "cell_type": "code",
   "execution_count": 7,
   "metadata": {},
   "outputs": [
    {
     "data": {
      "image/png": "[encoded data removed]",
      "text/plain": [
       "<Figure size 432x288 with 1 Axes>"
      ]
     },
     "metadata": {
      "needs_background": "light"
     },
     "output_type": "display_data"
    }
   ],
   "source": [
    "plt.scatter(df1[\"rating\"],df1[\"minutesInFocus\"])\n",
    "plt.scatter(df2[\"rating\"],df2[\"minutesInFocus\"])\n",
    "plt.scatter(df3[\"rating\"],df3[\"minutesInFocus\"])\n",
    "plt.scatter(df4[\"rating\"],df4[\"minutesInFocus\"])\n",
    "\n",
    "\n",
    "focusdf['rating'].fillna(value=focusdf['rating'].mean(), inplace=True)\n",
    "\n",
    "slope, intercept, r, p, stderr = scipy.stats.linregress(focusdf[\"rating\"], focusdf[\"minutesInFocus\"])\n",
    "plt.plot(focusdf[\"rating\"], intercept + slope * focusdf[\"rating\"])\n",
    "\n",
    "\n",
    "plt.xlabel(\"rating\")\n",
    "plt.ylabel(\"minutes in focus\")\n",
    "plt.title(\"Productivity vs length of focus sessions\")\n",
    "\n",
    "plt.show()"
   ]
  },
  {
   "cell_type": "code",
   "execution_count": 8,
   "metadata": {},
   "outputs": [
    {
     "data": {
      "image/png": "[encoded data removed]",
      "text/plain": [
       "<Figure size 432x288 with 1 Axes>"
      ]
     },
     "metadata": {
      "needs_background": "light"
     },
     "output_type": "display_data"
    }
   ],
   "source": [
    "plt.scatter(df1[\"rating\"],df1[\"percentageCompletedGoals\"])\n",
    "plt.scatter(df2[\"rating\"],df2[\"percentageCompletedGoals\"])\n",
    "plt.scatter(df3[\"rating\"],df3[\"percentageCompletedGoals\"])\n",
    "plt.scatter(df4[\"rating\"],df4[\"percentageCompletedGoals\"])\n",
    "\n",
    "slope, intercept, r, p, stderr = scipy.stats.linregress(focusdf[\"rating\"], focusdf[\"percentageCompletedGoals\"])\n",
    "plt.plot(focusdf[\"rating\"], intercept + slope * focusdf[\"rating\"])\n",
    "\n",
    "\n",
    "plt.xlabel(\"rating\")\n",
    "plt.ylabel(\"completed goals\")\n",
    "plt.title(\"Productivity vs percentage goals completed\")\n",
    "\n",
    "plt.show()"
   ]
  }
 ],
 "metadata": {
  "kernelspec": {
   "display_name": "Python 3",
   "language": "python",
   "name": "python3"
  },
  "language_info": {
   "codemirror_mode": {
    "name": "ipython",
    "version": 3
   },
   "file_extension": ".py",
   "mimetype": "text/x-python",
   "name": "python",
   "nbconvert_exporter": "python",
   "pygments_lexer": "ipython3",
   "version": "3.7.7"
  }
 },
 "nbformat": 4,
 "nbformat_minor": 4
}
