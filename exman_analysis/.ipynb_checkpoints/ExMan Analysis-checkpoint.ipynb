{
 "cells": [
  {
   "cell_type": "code",
   "execution_count": 17,
   "metadata": {},
   "outputs": [],
   "source": [
    "import json\n",
    "import numpy as np\n",
    "import matplotlib.pyplot as plt"
   ]
  },
  {
   "cell_type": "code",
   "execution_count": 18,
   "metadata": {},
   "outputs": [],
   "source": [
    "with open('ex-man-export.json', 'r') as outfile:\n",
    "    data = json.load(outfile)"
   ]
  },
  {
   "cell_type": "code",
   "execution_count": 19,
   "metadata": {},
   "outputs": [
    {
     "name": "stdout",
     "output_type": "stream",
     "text": [
      "Number of focus sessions:  49\n"
     ]
    }
   ],
   "source": [
    "print(\"Number of focus sessions: \", len(data))\n"
   ]
  },
  {
   "cell_type": "code",
   "execution_count": 20,
   "metadata": {},
   "outputs": [
    {
     "name": "stdout",
     "output_type": "stream",
     "text": [
      "85d39fc5-251e-42e3-b410-9c96c982ce23\n",
      "e12e8020-dca7-4348-89b9-5a31c8a233f5\n",
      "baf60e74-4f50-4016-a981-bd8dc7057e01\n",
      "77a2a424-91ab-4af8-aa10-8e60c67814bd\n",
      "bd2f5d1c-36ee-4a6e-ae09-2280541c4580\n",
      "9fd4a45a-e197-4602-ae94-c33f3d0fc63d\n",
      "ed1b5ac4-18bb-4de7-aff4-05101cb1c49e\n",
      "945b1d5e-40d9-4054-a727-65ad0ee7dc87\n",
      "342dff2e-5460-454f-b213-00f6d05863fd\n",
      "e4b61597-f75a-4ff2-9cee-03b9f6f09c5e\n",
      "cff41740-32a4-484a-a7a6-f705d2ace033\n",
      "c02e5201-bf22-429f-8285-9ba9d175ade1\n",
      "decc50cc-ee8a-44ef-9b73-34855d650e69\n",
      "3b2fe068-6050-4827-af78-76f5e3805d3e\n",
      "5f3a6f1f-98eb-49eb-bbf3-79eb9c348d24\n",
      "f422ca71-7a1f-474f-9edb-f4336069627a\n",
      "a2b0f1bd-8a60-406a-a45f-db2eca54230e\n",
      "cbdb4c6b-2433-46bb-9786-dfaa51546b35\n",
      "977fd9e3-0e8f-4a93-a98e-ba83663f0281\n",
      "f32ffe80-0543-460b-9251-44d857276958\n",
      "932dd855-9efd-4fc0-84e8-f94a91ee4f1d\n",
      "c74a6389-5f7b-4d1a-992d-e867a3e49006\n",
      "51d69737-19d8-4d14-af71-0d2ef75a7ed2\n",
      "59c769de-bbad-473b-8ff1-eeaf7bb04e33\n",
      "dd3c982b-223a-4533-bd3f-b85635267a24\n",
      "bd198335-569b-44fa-a83b-e8450ec6ff38\n",
      "9a181c3b-b581-4279-a970-9d4b6ffacfa8\n",
      "26b6f2fb-4633-4b60-bb57-e6be34ffe3a7\n",
      "541dbbed-9f37-4b2c-8855-a5bcc6b30c8e\n",
      "c9372c34-17f4-4674-af78-e5cc36e7c792\n",
      "13b1e04d-9a56-4693-ba62-eae98c302b2a\n",
      "7686380f-5f33-4860-bf31-bda00ec6f7d2\n",
      "c013be1f-983d-4384-bbbc-b4820e992013\n",
      "6317db8d-c339-460c-a7cc-e8fc35bdb6a4\n",
      "ba3200e1-9753-488d-91bd-8dacee383314\n",
      "6d6bfee4-bd44-4406-96e5-9b0b8eb23b6d\n",
      "372f9d28-d5cc-419a-9742-59cee52e6ee4\n",
      "3b2f160c-2c22-44ba-a3c5-d83e70b73341\n",
      "35319f71-2e6c-4069-870e-abf8b0a791b6\n",
      "87c90f9b-3a02-4ee6-99f3-cacdc0431e56\n",
      "7ceff3c7-2898-4717-9154-cf886afe5d62\n",
      "297dd217-576a-45bc-8003-4cc6a5a8dcb9\n",
      "2c139759-a650-4624-a0ed-8c0695464c23\n",
      "61e45ff8-2b20-4090-b316-2eb08bcb1048\n",
      "2f19aedd-ba8a-41b0-a3a0-33af223ea913\n",
      "40041e6e-ce65-404f-9224-350a7c5f42aa\n",
      "6e978d9d-80dc-4d63-b49a-69cc73e342a7\n",
      "82855b7f-b273-4008-886b-97b7b50a7f02\n",
      "a3061973-9fb7-4b33-9c43-7b5e4183825a\n"
     ]
    }
   ],
   "source": [
    "for i in data:\n",
    "    breakFocus = i[\"brokenFocus\"]"
   ]
  },
  {
   "cell_type": "code",
   "execution_count": 25,
   "metadata": {},
   "outputs": [
    {
     "data": {
      "text/plain": [
       "(array([[2., 0., 0., 0., 0., 0., 0., 0., 0., 0.],\n",
       "        [1., 0., 0., 0., 0., 1., 0., 0., 0., 0.],\n",
       "        [0., 0., 0., 0., 0., 0., 1., 0., 1., 0.],\n",
       "        [0., 0., 0., 0., 0., 1., 0., 0., 0., 1.]]),\n",
       " array([1. , 1.6, 2.2, 2.8, 3.4, 4. , 4.6, 5.2, 5.8, 6.4, 7. ]),\n",
       " <a list of 4 BarContainer objects>)"
      ]
     },
     "execution_count": 25,
     "metadata": {},
     "output_type": "execute_result"
    },
    {
     "data": {
      "image/png": "[encoded data removed]",
      "text/plain": [
       "<Figure size 432x288 with 1 Axes>"
      ]
     },
     "metadata": {
      "needs_background": "light"
     },
     "output_type": "display_data"
    }
   ],
   "source": []
  },
  {
   "cell_type": "code",
   "execution_count": null,
   "metadata": {},
   "outputs": [],
   "source": []
  }
 ],
 "metadata": {
  "kernelspec": {
   "display_name": "Python 3",
   "language": "python",
   "name": "python3"
  },
  "language_info": {
   "codemirror_mode": {
    "name": "ipython",
    "version": 3
   },
   "file_extension": ".py",
   "mimetype": "text/x-python",
   "name": "python",
   "nbconvert_exporter": "python",
   "pygments_lexer": "ipython3",
   "version": "3.7.7"
  }
 },
 "nbformat": 4,
 "nbformat_minor": 4
}
